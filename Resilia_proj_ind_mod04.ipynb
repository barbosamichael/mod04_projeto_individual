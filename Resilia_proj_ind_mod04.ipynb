{
 "cells": [
  {
   "cell_type": "code",
   "execution_count": 1,
   "id": "d92a812f",
   "metadata": {},
   "outputs": [],
   "source": [
    "import numpy as np\n",
    "import pandas as pd\n"
   ]
  },
  {
   "cell_type": "code",
   "execution_count": 2,
   "id": "d62716c7",
   "metadata": {},
   "outputs": [],
   "source": [
    "#criando dataframe de dados \n",
    "df = pd.DataFrame(\n",
    "    {'Dia':['Segunda','Terça','Quarta',\n",
    "            'Quinta','Sexta','Sábado','Domingo'],\n",
    "    'Horas Trabalhadas':[6,7,8,6,7,5,4],\n",
    "    'Bugs Corrigidos':[3,2,1,4,3,2,1],\n",
    "    'Tarefas Concluídas':[5,4,6,4,5,3,2]}\n",
    ")  "
   ]
  },
  {
   "cell_type": "code",
   "execution_count": null,
   "id": "997b7a23",
   "metadata": {
    "scrolled": true
   },
   "outputs": [
    {
     "data": {
      "text/html": [
       "<div>\n",
       "<style scoped>\n",
       "    .dataframe tbody tr th:only-of-type {\n",
       "        vertical-align: middle;\n",
       "    }\n",
       "\n",
       "    .dataframe tbody tr th {\n",
       "        vertical-align: top;\n",
       "    }\n",
       "\n",
       "    .dataframe thead th {\n",
       "        text-align: right;\n",
       "    }\n",
       "</style>\n",
       "<table border=\"1\" class=\"dataframe\">\n",
       "  <thead>\n",
       "    <tr style=\"text-align: right;\">\n",
       "      <th></th>\n",
       "      <th>Dia</th>\n",
       "      <th>Horas Trabalhadas</th>\n",
       "      <th>Bugs Corrigidos</th>\n",
       "      <th>Tarefas Concluídas</th>\n",
       "    </tr>\n",
       "  </thead>\n",
       "  <tbody>\n",
       "    <tr>\n",
       "      <th>0</th>\n",
       "      <td>Segunda</td>\n",
       "      <td>6</td>\n",
       "      <td>3</td>\n",
       "      <td>5</td>\n",
       "    </tr>\n",
       "    <tr>\n",
       "      <th>1</th>\n",
       "      <td>Terça</td>\n",
       "      <td>7</td>\n",
       "      <td>2</td>\n",
       "      <td>4</td>\n",
       "    </tr>\n",
       "    <tr>\n",
       "      <th>2</th>\n",
       "      <td>Quarta</td>\n",
       "      <td>8</td>\n",
       "      <td>1</td>\n",
       "      <td>6</td>\n",
       "    </tr>\n",
       "    <tr>\n",
       "      <th>3</th>\n",
       "      <td>Quinta</td>\n",
       "      <td>6</td>\n",
       "      <td>4</td>\n",
       "      <td>4</td>\n",
       "    </tr>\n",
       "    <tr>\n",
       "      <th>4</th>\n",
       "      <td>Sexta</td>\n",
       "      <td>7</td>\n",
       "      <td>3</td>\n",
       "      <td>5</td>\n",
       "    </tr>\n",
       "    <tr>\n",
       "      <th>5</th>\n",
       "      <td>Sábado</td>\n",
       "      <td>5</td>\n",
       "      <td>2</td>\n",
       "      <td>3</td>\n",
       "    </tr>\n",
       "    <tr>\n",
       "      <th>6</th>\n",
       "      <td>Domingo</td>\n",
       "      <td>4</td>\n",
       "      <td>1</td>\n",
       "      <td>2</td>\n",
       "    </tr>\n",
       "  </tbody>\n",
       "</table>\n",
       "</div>"
      ],
      "text/plain": [
       "       Dia  Horas Trabalhadas  Bugs Corrigidos  Tarefas Concluídas\n",
       "0  Segunda                  6                3                   5\n",
       "1    Terça                  7                2                   4\n",
       "2   Quarta                  8                1                   6\n",
       "3   Quinta                  6                4                   4\n",
       "4    Sexta                  7                3                   5\n",
       "5   Sábado                  5                2                   3\n",
       "6  Domingo                  4                1                   2"
      ]
     },
     "execution_count": 3,
     "metadata": {},
     "output_type": "execute_result"
    }
   ],
   "source": [
    "df"
   ]
  },
  {
   "cell_type": "code",
   "execution_count": null,
   "id": "22ade1d1",
   "metadata": {
    "scrolled": true
   },
   "outputs": [],
   "source": [
    "#visualização rápida dos dados\n",
    "df.index = df['Dia']\n",
    "df.plot()"
   ]
  },
  {
   "cell_type": "markdown",
   "id": "e737da13",
   "metadata": {},
   "source": [
    "### Num primeiro momento pode observa-se que na quarta feira, onde há uma maior quantidade de tarefas concluídas e horas trablhadas também é o ponto muito proximo do gráfico em que temos a mínima de bugs corrigidos."
   ]
  },
  {
   "cell_type": "markdown",
   "id": "3acb8c01",
   "metadata": {},
   "source": [
    "### Respostas das perguntas propostas"
   ]
  },
  {
   "cell_type": "markdown",
   "id": "91327bd0",
   "metadata": {},
   "source": [
    "#### 1) Total horas trabalhadas"
   ]
  },
  {
   "cell_type": "code",
   "execution_count": null,
   "id": "73064861",
   "metadata": {},
   "outputs": [],
   "source": [
    "\n",
    "total_hrs_trab = df['Horas Trabalhadas'].sum()\n",
    "\n",
    "print(\"Horas trabalhadas:\",total_hrs_trab)"
   ]
  },
  {
   "cell_type": "markdown",
   "id": "ae0cb21e",
   "metadata": {},
   "source": [
    "#### 2) Média Diária de Horas Trabalhadas dia\n"
   ]
  },
  {
   "cell_type": "code",
   "execution_count": null,
   "id": "1e7b4f87",
   "metadata": {
    "scrolled": true
   },
   "outputs": [],
   "source": [
    "media_hrs_dia = (df['Horas Trabalhadas']).mean()\n",
    "\n",
    "print(\"Média Horas trabalhadas dia: {:.3}hrs\".format(media_hrs_dia))"
   ]
  },
  {
   "cell_type": "markdown",
   "id": "50d65ef6",
   "metadata": {},
   "source": [
    "#### 3) Total de Bugs Corrigidos\n"
   ]
  },
  {
   "cell_type": "code",
   "execution_count": null,
   "id": "ecdcdd40",
   "metadata": {},
   "outputs": [],
   "source": [
    "tot_bugs_corrigidos = df['Bugs Corrigidos'].sum()\n",
    "\n",
    "print(\"Total Bugs Corrigidos:\",tot_bugs_corrigidos)"
   ]
  },
  {
   "cell_type": "markdown",
   "id": "56756adf",
   "metadata": {},
   "source": [
    "#### 04) Média Diária de Bugs Corrigidos\n"
   ]
  },
  {
   "cell_type": "code",
   "execution_count": null,
   "id": "9b872e3a",
   "metadata": {},
   "outputs": [],
   "source": [
    "\n",
    "med_tot_bugs_corrigidos = (df['Bugs Corrigidos']).mean()\n",
    "\n",
    "print(\"Média Total Bugs Corrigidos dia:{:.3}\".format(med_tot_bugs_corrigidos))"
   ]
  },
  {
   "cell_type": "markdown",
   "id": "3457df07",
   "metadata": {},
   "source": [
    "#### 5) Total de Tarefas Concluídas"
   ]
  },
  {
   "cell_type": "code",
   "execution_count": null,
   "id": "4babc19e",
   "metadata": {
    "scrolled": true
   },
   "outputs": [],
   "source": [
    "total_taref_concluida = df['Tarefas Concluídas'].sum()\n",
    "\n",
    "print(\"Total tarefas concluídas:\",total_taref_concluida)"
   ]
  },
  {
   "cell_type": "markdown",
   "id": "130dcc4d",
   "metadata": {},
   "source": [
    "#### 6) Média Diária de Tarefas Concluídas"
   ]
  },
  {
   "cell_type": "code",
   "execution_count": null,
   "id": "b240f75a",
   "metadata": {},
   "outputs": [],
   "source": [
    "media_taref_concluida = (df['Tarefas Concluídas']).mean()\n",
    "\n",
    "print(\"Média dia Tarefa Concluída:{:.3}\".format(media_taref_concluida))"
   ]
  },
  {
   "cell_type": "markdown",
   "id": "36bccee2",
   "metadata": {},
   "source": [
    "#### 7.1) Calcula a produtividade e armazena numa variavel temporaria "
   ]
  },
  {
   "cell_type": "code",
   "execution_count": null,
   "id": "e8917c89",
   "metadata": {},
   "outputs": [],
   "source": [
    "df['Produtividade'] = df['Tarefas Concluídas'] / df['Horas Trabalhadas']"
   ]
  },
  {
   "cell_type": "code",
   "execution_count": null,
   "id": "c7caf082",
   "metadata": {},
   "outputs": [],
   "source": [
    "df['Produtividade']"
   ]
  },
  {
   "cell_type": "code",
   "execution_count": null,
   "id": "13d7ccd2",
   "metadata": {},
   "outputs": [],
   "source": [
    "df.plot.bar()"
   ]
  },
  {
   "cell_type": "code",
   "execution_count": null,
   "id": "8e22bc1d",
   "metadata": {
    "scrolled": true
   },
   "outputs": [],
   "source": [
    "df"
   ]
  },
  {
   "cell_type": "markdown",
   "id": "ae0ba76a",
   "metadata": {},
   "source": [
    "### Conclusão"
   ]
  },
  {
   "cell_type": "markdown",
   "id": "04a7adfa",
   "metadata": {},
   "source": [
    "#### 1) Analise de bugs corrigido e produtividade.\n",
    "#### Apesar da quarta feira ser o dia com menor quantidade de bugs corrigidos, juntamente com maior quantidade de tarefas entregues e maior número de horas trabalhadas. Não conseguimos obter uma maior produtividade."
   ]
  },
  {
   "cell_type": "markdown",
   "id": "965d425c",
   "metadata": {},
   "source": [
    "#### 2) Produtividade e dias da semana.\n",
    "#### Um ponto interessante é que aos finais de semana temos os menores valores de produtividade, por dia consecutivo, no trabalho."
   ]
  },
  {
   "cell_type": "markdown",
   "id": "6172fe89",
   "metadata": {},
   "source": [
    "#### 3) Quantidade de horas trabalhadas.\n",
    "#### Aparentemente até 6 horas por dia de trabalho é o que apresenta maior produtividade.Considerando que o dia anterior foi de descanso. Seis horas de trablho é o que apresenta melhor resultado ainda que houvesse bugs no dia.\n"
   ]
  }
 ],
 "metadata": {
  "kernelspec": {
   "display_name": "Python 3 (ipykernel)",
   "language": "python",
   "name": "python3"
  },
  "language_info": {
   "codemirror_mode": {
    "name": "ipython",
    "version": 3
   },
   "file_extension": ".py",
   "mimetype": "text/x-python",
   "name": "python",
   "nbconvert_exporter": "python",
   "pygments_lexer": "ipython3",
   "version": "3.9.12"
  }
 },
 "nbformat": 4,
 "nbformat_minor": 5
}
