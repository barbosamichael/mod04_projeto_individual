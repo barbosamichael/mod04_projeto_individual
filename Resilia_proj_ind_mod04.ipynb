{
 "cells": [
  {
   "cell_type": "code",
   "execution_count": 1,
   "id": "bceb1243",
   "metadata": {},
   "outputs": [],
   "source": [
    "import numpy as np\n",
    "import pandas as pd"
   ]
  },
  {
   "cell_type": "code",
   "execution_count": 2,
   "id": "4c25a9e8",
   "metadata": {},
   "outputs": [],
   "source": [
    "#criando dataframe de dados \n",
    "df = pd.DataFrame(\n",
    "    {'Dia':['Segunda','Terça','Quarta',\n",
    "            'Quinta','Sexta','Sábado','Domingo'],\n",
    "    'Horas Trabalhadas':[6,7,8,6,7,5,4],\n",
    "    'Bugs Corrigidos':[3,2,1,4,3,2,1],\n",
    "    'Tarefas Concluídas':[5,4,6,4,5,3,2]}\n",
    ")  "
   ]
  },
  {
   "cell_type": "code",
   "execution_count": 3,
   "id": "268af028",
   "metadata": {},
   "outputs": [
    {
     "data": {
      "text/html": [
       "<div>\n",
       "<style scoped>\n",
       "    .dataframe tbody tr th:only-of-type {\n",
       "        vertical-align: middle;\n",
       "    }\n",
       "\n",
       "    .dataframe tbody tr th {\n",
       "        vertical-align: top;\n",
       "    }\n",
       "\n",
       "    .dataframe thead th {\n",
       "        text-align: right;\n",
       "    }\n",
       "</style>\n",
       "<table border=\"1\" class=\"dataframe\">\n",
       "  <thead>\n",
       "    <tr style=\"text-align: right;\">\n",
       "      <th></th>\n",
       "      <th>Dia</th>\n",
       "      <th>Horas Trabalhadas</th>\n",
       "      <th>Bugs Corrigidos</th>\n",
       "      <th>Tarefas Concluídas</th>\n",
       "    </tr>\n",
       "  </thead>\n",
       "  <tbody>\n",
       "    <tr>\n",
       "      <th>0</th>\n",
       "      <td>Segunda</td>\n",
       "      <td>6</td>\n",
       "      <td>3</td>\n",
       "      <td>5</td>\n",
       "    </tr>\n",
       "    <tr>\n",
       "      <th>1</th>\n",
       "      <td>Terça</td>\n",
       "      <td>7</td>\n",
       "      <td>2</td>\n",
       "      <td>4</td>\n",
       "    </tr>\n",
       "    <tr>\n",
       "      <th>2</th>\n",
       "      <td>Quarta</td>\n",
       "      <td>8</td>\n",
       "      <td>1</td>\n",
       "      <td>6</td>\n",
       "    </tr>\n",
       "    <tr>\n",
       "      <th>3</th>\n",
       "      <td>Quinta</td>\n",
       "      <td>6</td>\n",
       "      <td>4</td>\n",
       "      <td>4</td>\n",
       "    </tr>\n",
       "    <tr>\n",
       "      <th>4</th>\n",
       "      <td>Sexta</td>\n",
       "      <td>7</td>\n",
       "      <td>3</td>\n",
       "      <td>5</td>\n",
       "    </tr>\n",
       "    <tr>\n",
       "      <th>5</th>\n",
       "      <td>Sábado</td>\n",
       "      <td>5</td>\n",
       "      <td>2</td>\n",
       "      <td>3</td>\n",
       "    </tr>\n",
       "    <tr>\n",
       "      <th>6</th>\n",
       "      <td>Domingo</td>\n",
       "      <td>4</td>\n",
       "      <td>1</td>\n",
       "      <td>2</td>\n",
       "    </tr>\n",
       "  </tbody>\n",
       "</table>\n",
       "</div>"
      ],
      "text/plain": [
       "       Dia  Horas Trabalhadas  Bugs Corrigidos  Tarefas Concluídas\n",
       "0  Segunda                  6                3                   5\n",
       "1    Terça                  7                2                   4\n",
       "2   Quarta                  8                1                   6\n",
       "3   Quinta                  6                4                   4\n",
       "4    Sexta                  7                3                   5\n",
       "5   Sábado                  5                2                   3\n",
       "6  Domingo                  4                1                   2"
      ]
     },
     "execution_count": 3,
     "metadata": {},
     "output_type": "execute_result"
    }
   ],
   "source": [
    "df"
   ]
  },
  {
   "cell_type": "markdown",
   "id": "eef77e77",
   "metadata": {},
   "source": [
    "### Respostas das perguntas propostas"
   ]
  },
  {
   "cell_type": "markdown",
   "id": "7eae1b4a",
   "metadata": {},
   "source": [
    "#### 1) Total horas trabalhadas"
   ]
  },
  {
   "cell_type": "code",
   "execution_count": 4,
   "id": "2217f445",
   "metadata": {},
   "outputs": [
    {
     "name": "stdout",
     "output_type": "stream",
     "text": [
      "Horas trabalhadas: 43\n"
     ]
    }
   ],
   "source": [
    "\n",
    "total_hrs_trab = df['Horas Trabalhadas'].sum()\n",
    "\n",
    "print(\"Horas trabalhadas:\",total_hrs_trab)"
   ]
  },
  {
   "cell_type": "markdown",
   "id": "b694dc11",
   "metadata": {},
   "source": [
    "#### 2) Média Diária de Horas Trabalhadas dia\n"
   ]
  },
  {
   "cell_type": "code",
   "execution_count": 5,
   "id": "878e67d3",
   "metadata": {
    "scrolled": true
   },
   "outputs": [
    {
     "name": "stdout",
     "output_type": "stream",
     "text": [
      "Média Horas trabalhadas dia: 6.14hrs\n"
     ]
    }
   ],
   "source": [
    "media_hrs_dia = (df['Horas Trabalhadas']).sum() / 7\n",
    "\n",
    "print(\"Média Horas trabalhadas dia: {:.3}hrs\".format(media_hrs_dia))"
   ]
  },
  {
   "cell_type": "markdown",
   "id": "cd04baf2",
   "metadata": {},
   "source": [
    "#### 3) Total de Bugs Corrigidos\n"
   ]
  },
  {
   "cell_type": "code",
   "execution_count": 6,
   "id": "4609f01e",
   "metadata": {},
   "outputs": [
    {
     "name": "stdout",
     "output_type": "stream",
     "text": [
      "Total Bugs Corrigidos: 16\n"
     ]
    }
   ],
   "source": [
    "tot_bugs_corrigidos = df['Bugs Corrigidos'].sum()\n",
    "\n",
    "print(\"Total Bugs Corrigidos:\",tot_bugs_corrigidos)"
   ]
  },
  {
   "cell_type": "markdown",
   "id": "96355a47",
   "metadata": {},
   "source": [
    "#### 04) Média Diária de Bugs Corrigidos\n"
   ]
  },
  {
   "cell_type": "code",
   "execution_count": 7,
   "id": "108f2df1",
   "metadata": {},
   "outputs": [
    {
     "name": "stdout",
     "output_type": "stream",
     "text": [
      "Média Total Bugs Corrigidos dia:2.29\n"
     ]
    }
   ],
   "source": [
    "\n",
    "med_tot_bugs_corrigidos = (df['Bugs Corrigidos'].sum()) / 7\n",
    "\n",
    "print(\"Média Total Bugs Corrigidos dia:{:.3}\".format(med_tot_bugs_corrigidos))"
   ]
  },
  {
   "cell_type": "markdown",
   "id": "4148ed58",
   "metadata": {},
   "source": [
    "#### 5) Total de Tarefas Concluídas"
   ]
  },
  {
   "cell_type": "code",
   "execution_count": 8,
   "id": "8ea331b6",
   "metadata": {
    "scrolled": true
   },
   "outputs": [
    {
     "name": "stdout",
     "output_type": "stream",
     "text": [
      "Total tarefas concluídas: 29\n"
     ]
    }
   ],
   "source": [
    "total_taref_concluida = df['Tarefas Concluídas'].sum()\n",
    "\n",
    "print(\"Total tarefas concluídas:\",total_taref_concluida)"
   ]
  },
  {
   "cell_type": "markdown",
   "id": "41ffc3c5",
   "metadata": {},
   "source": [
    "#### 6) Média Diária de Tarefas Concluídas"
   ]
  },
  {
   "cell_type": "code",
   "execution_count": 9,
   "id": "0cfb54f8",
   "metadata": {},
   "outputs": [
    {
     "name": "stdout",
     "output_type": "stream",
     "text": [
      "Média dia Tarefa Concluída:4.14\n"
     ]
    }
   ],
   "source": [
    "media_taref_concluida = (df['Tarefas Concluídas'].sum()) / 7\n",
    "\n",
    "print(\"Média dia Tarefa Concluída:{:.3}\".format(media_taref_concluida))"
   ]
  },
  {
   "cell_type": "markdown",
   "id": "653d7fe7",
   "metadata": {},
   "source": [
    "#### 7.1) Calcula a produtividade e armazena numa variavel temporaria "
   ]
  },
  {
   "cell_type": "code",
   "execution_count": 10,
   "id": "4fc540da",
   "metadata": {},
   "outputs": [],
   "source": [
    "temp01 = df['Tarefas Concluídas'] / df['Horas Trabalhadas']"
   ]
  },
  {
   "cell_type": "markdown",
   "id": "40dc5b72",
   "metadata": {},
   "source": [
    "#### 7.2) Armazena o valor anterior no formato de lista"
   ]
  },
  {
   "cell_type": "code",
   "execution_count": 11,
   "id": "90012235",
   "metadata": {},
   "outputs": [
    {
     "data": {
      "text/plain": [
       "[0.8333333333333334,\n",
       " 0.5714285714285714,\n",
       " 0.75,\n",
       " 0.6666666666666666,\n",
       " 0.7142857142857143,\n",
       " 0.6,\n",
       " 0.5]"
      ]
     },
     "execution_count": 11,
     "metadata": {},
     "output_type": "execute_result"
    }
   ],
   "source": [
    "temp02= []\n",
    "for i in temp01:\n",
    "    temp02.append(i)\n",
    "    \n",
    "temp02"
   ]
  },
  {
   "cell_type": "markdown",
   "id": "a77fcaf8",
   "metadata": {},
   "source": [
    "#### 7.3) Produtividade Diária (Tarefas Concluídas por Hora)"
   ]
  },
  {
   "cell_type": "code",
   "execution_count": 12,
   "id": "a19727c0",
   "metadata": {},
   "outputs": [
    {
     "data": {
      "text/html": [
       "<div>\n",
       "<style scoped>\n",
       "    .dataframe tbody tr th:only-of-type {\n",
       "        vertical-align: middle;\n",
       "    }\n",
       "\n",
       "    .dataframe tbody tr th {\n",
       "        vertical-align: top;\n",
       "    }\n",
       "\n",
       "    .dataframe thead th {\n",
       "        text-align: right;\n",
       "    }\n",
       "</style>\n",
       "<table border=\"1\" class=\"dataframe\">\n",
       "  <thead>\n",
       "    <tr style=\"text-align: right;\">\n",
       "      <th></th>\n",
       "      <th>Produtividade</th>\n",
       "    </tr>\n",
       "    <tr>\n",
       "      <th>Dia</th>\n",
       "      <th></th>\n",
       "    </tr>\n",
       "  </thead>\n",
       "  <tbody>\n",
       "    <tr>\n",
       "      <th>Segunda</th>\n",
       "      <td>0.833333</td>\n",
       "    </tr>\n",
       "    <tr>\n",
       "      <th>Terça</th>\n",
       "      <td>0.571429</td>\n",
       "    </tr>\n",
       "    <tr>\n",
       "      <th>Quarta</th>\n",
       "      <td>0.750000</td>\n",
       "    </tr>\n",
       "    <tr>\n",
       "      <th>Quinta</th>\n",
       "      <td>0.666667</td>\n",
       "    </tr>\n",
       "    <tr>\n",
       "      <th>Sexta</th>\n",
       "      <td>0.714286</td>\n",
       "    </tr>\n",
       "    <tr>\n",
       "      <th>Sábado</th>\n",
       "      <td>0.600000</td>\n",
       "    </tr>\n",
       "    <tr>\n",
       "      <th>Domingo</th>\n",
       "      <td>0.500000</td>\n",
       "    </tr>\n",
       "  </tbody>\n",
       "</table>\n",
       "</div>"
      ],
      "text/plain": [
       "         Produtividade\n",
       "Dia                   \n",
       "Segunda       0.833333\n",
       "Terça         0.571429\n",
       "Quarta        0.750000\n",
       "Quinta        0.666667\n",
       "Sexta         0.714286\n",
       "Sábado        0.600000\n",
       "Domingo       0.500000"
      ]
     },
     "execution_count": 12,
     "metadata": {},
     "output_type": "execute_result"
    }
   ],
   "source": [
    "produtividade = pd.DataFrame({'Produtividade':temp02},index=df['Dia'])\n",
    "produtividade"
   ]
  },
  {
   "cell_type": "markdown",
   "id": "8be673b8",
   "metadata": {},
   "source": [
    "### Conclusão"
   ]
  },
  {
   "cell_type": "code",
   "execution_count": null,
   "id": "9ba55840",
   "metadata": {},
   "outputs": [],
   "source": []
  },
  {
   "cell_type": "code",
   "execution_count": null,
   "id": "957d6fe7",
   "metadata": {},
   "outputs": [],
   "source": []
  },
  {
   "cell_type": "code",
   "execution_count": null,
   "id": "1f0bb0fe",
   "metadata": {},
   "outputs": [],
   "source": []
  },
  {
   "cell_type": "code",
   "execution_count": null,
   "id": "e80b2a51",
   "metadata": {},
   "outputs": [],
   "source": []
  }
 ],
 "metadata": {
  "kernelspec": {
   "display_name": "Python 3 (ipykernel)",
   "language": "python",
   "name": "python3"
  },
  "language_info": {
   "codemirror_mode": {
    "name": "ipython",
    "version": 3
   },
   "file_extension": ".py",
   "mimetype": "text/x-python",
   "name": "python",
   "nbconvert_exporter": "python",
   "pygments_lexer": "ipython3",
   "version": "3.9.12"
  }
 },
 "nbformat": 4,
 "nbformat_minor": 5
}
