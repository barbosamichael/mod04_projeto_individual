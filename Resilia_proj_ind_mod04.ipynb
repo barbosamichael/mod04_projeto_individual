{
 "cells": [
  {
   "cell_type": "code",
   "execution_count": 1,
   "id": "d92a812f",
   "metadata": {},
   "outputs": [],
   "source": [
    "import numpy as np\n",
    "import pandas as pd\n"
   ]
  },
  {
   "cell_type": "code",
   "execution_count": 2,
   "id": "d62716c7",
   "metadata": {},
   "outputs": [],
   "source": [
    "#criando dataframe de dados \n",
    "df = pd.DataFrame(\n",
    "    {'Dia':['Segunda','Terça','Quarta',\n",
    "            'Quinta','Sexta','Sábado','Domingo'],\n",
    "    'Horas Trabalhadas':[6,7,8,6,7,5,4],\n",
    "    'Bugs Corrigidos':[3,2,1,4,3,2,1],\n",
    "    'Tarefas Concluídas':[5,4,6,4,5,3,2]}\n",
    ")  "
   ]
  },
  {
   "cell_type": "code",
   "execution_count": 3,
   "id": "997b7a23",
   "metadata": {
    "scrolled": true
   },
   "outputs": [
    {
     "data": {
      "text/html": [
       "<div>\n",
       "<style scoped>\n",
       "    .dataframe tbody tr th:only-of-type {\n",
       "        vertical-align: middle;\n",
       "    }\n",
       "\n",
       "    .dataframe tbody tr th {\n",
       "        vertical-align: top;\n",
       "    }\n",
       "\n",
       "    .dataframe thead th {\n",
       "        text-align: right;\n",
       "    }\n",
       "</style>\n",
       "<table border=\"1\" class=\"dataframe\">\n",
       "  <thead>\n",
       "    <tr style=\"text-align: right;\">\n",
       "      <th></th>\n",
       "      <th>Dia</th>\n",
       "      <th>Horas Trabalhadas</th>\n",
       "      <th>Bugs Corrigidos</th>\n",
       "      <th>Tarefas Concluídas</th>\n",
       "    </tr>\n",
       "  </thead>\n",
       "  <tbody>\n",
       "    <tr>\n",
       "      <th>0</th>\n",
       "      <td>Segunda</td>\n",
       "      <td>6</td>\n",
       "      <td>3</td>\n",
       "      <td>5</td>\n",
       "    </tr>\n",
       "    <tr>\n",
       "      <th>1</th>\n",
       "      <td>Terça</td>\n",
       "      <td>7</td>\n",
       "      <td>2</td>\n",
       "      <td>4</td>\n",
       "    </tr>\n",
       "    <tr>\n",
       "      <th>2</th>\n",
       "      <td>Quarta</td>\n",
       "      <td>8</td>\n",
       "      <td>1</td>\n",
       "      <td>6</td>\n",
       "    </tr>\n",
       "    <tr>\n",
       "      <th>3</th>\n",
       "      <td>Quinta</td>\n",
       "      <td>6</td>\n",
       "      <td>4</td>\n",
       "      <td>4</td>\n",
       "    </tr>\n",
       "    <tr>\n",
       "      <th>4</th>\n",
       "      <td>Sexta</td>\n",
       "      <td>7</td>\n",
       "      <td>3</td>\n",
       "      <td>5</td>\n",
       "    </tr>\n",
       "    <tr>\n",
       "      <th>5</th>\n",
       "      <td>Sábado</td>\n",
       "      <td>5</td>\n",
       "      <td>2</td>\n",
       "      <td>3</td>\n",
       "    </tr>\n",
       "    <tr>\n",
       "      <th>6</th>\n",
       "      <td>Domingo</td>\n",
       "      <td>4</td>\n",
       "      <td>1</td>\n",
       "      <td>2</td>\n",
       "    </tr>\n",
       "  </tbody>\n",
       "</table>\n",
       "</div>"
      ],
      "text/plain": [
       "       Dia  Horas Trabalhadas  Bugs Corrigidos  Tarefas Concluídas\n",
       "0  Segunda                  6                3                   5\n",
       "1    Terça                  7                2                   4\n",
       "2   Quarta                  8                1                   6\n",
       "3   Quinta                  6                4                   4\n",
       "4    Sexta                  7                3                   5\n",
       "5   Sábado                  5                2                   3\n",
       "6  Domingo                  4                1                   2"
      ]
     },
     "execution_count": 3,
     "metadata": {},
     "output_type": "execute_result"
    }
   ],
   "source": [
    "df"
   ]
  },
  {
   "cell_type": "code",
   "execution_count": 4,
   "id": "83c99f58",
   "metadata": {
    "scrolled": true
   },
   "outputs": [
    {
     "data": {
      "text/plain": [
       "<AxesSubplot:xlabel='Dia'>"
      ]
     },
     "execution_count": 4,
     "metadata": {},
     "output_type": "execute_result"
    },
    {
     "data": {
      "image/png": "[encoded data removed]",
      "text/plain": [
       "<Figure size 432x288 with 1 Axes>"
      ]
     },
     "metadata": {
      "needs_background": "light"
     },
     "output_type": "display_data"
    }
   ],
   "source": [
    "#visualização rápida dos dados\n",
    "df.index = df['Dia']\n",
    "df.plot()"
   ]
  },
  {
   "cell_type": "markdown",
   "id": "16f8149a",
   "metadata": {},
   "source": [
    "### Num primeiro momento pode observa-se que na quarta feira, onde há uma maior quantidade de tarefas concluídas e horas trablhadas também é o ponto muito proximo do gráfico em que temos a mínima de bugs corrigidos."
   ]
  },
  {
   "cell_type": "markdown",
   "id": "3acb8c01",
   "metadata": {},
   "source": [
    "### Respostas das perguntas propostas"
   ]
  },
  {
   "cell_type": "markdown",
   "id": "91327bd0",
   "metadata": {},
   "source": [
    "#### 1) Total horas trabalhadas"
   ]
  },
  {
   "cell_type": "code",
   "execution_count": 5,
   "id": "73064861",
   "metadata": {},
   "outputs": [
    {
     "name": "stdout",
     "output_type": "stream",
     "text": [
      "Horas trabalhadas: 43\n"
     ]
    }
   ],
   "source": [
    "\n",
    "total_hrs_trab = df['Horas Trabalhadas'].sum()\n",
    "\n",
    "print(\"Horas trabalhadas:\",total_hrs_trab)"
   ]
  },
  {
   "cell_type": "markdown",
   "id": "ae0cb21e",
   "metadata": {},
   "source": [
    "#### 2) Média Diária de Horas Trabalhadas dia\n"
   ]
  },
  {
   "cell_type": "code",
   "execution_count": 6,
   "id": "1e7b4f87",
   "metadata": {
    "scrolled": true
   },
   "outputs": [
    {
     "name": "stdout",
     "output_type": "stream",
     "text": [
      "Média Horas trabalhadas dia: 6.14hrs\n"
     ]
    }
   ],
   "source": [
    "media_hrs_dia = (df['Horas Trabalhadas']).mean()\n",
    "\n",
    "print(\"Média Horas trabalhadas dia: {:.3}hrs\".format(media_hrs_dia))"
   ]
  },
  {
   "cell_type": "markdown",
   "id": "50d65ef6",
   "metadata": {},
   "source": [
    "#### 3) Total de Bugs Corrigidos\n"
   ]
  },
  {
   "cell_type": "code",
   "execution_count": 7,
   "id": "ecdcdd40",
   "metadata": {},
   "outputs": [
    {
     "name": "stdout",
     "output_type": "stream",
     "text": [
      "Total Bugs Corrigidos: 16\n"
     ]
    }
   ],
   "source": [
    "tot_bugs_corrigidos = df['Bugs Corrigidos'].sum()\n",
    "\n",
    "print(\"Total Bugs Corrigidos:\",tot_bugs_corrigidos)"
   ]
  },
  {
   "cell_type": "markdown",
   "id": "56756adf",
   "metadata": {},
   "source": [
    "#### 04) Média Diária de Bugs Corrigidos\n"
   ]
  },
  {
   "cell_type": "code",
   "execution_count": 8,
   "id": "9b872e3a",
   "metadata": {},
   "outputs": [
    {
     "name": "stdout",
     "output_type": "stream",
     "text": [
      "Média Total Bugs Corrigidos dia:2.29\n"
     ]
    }
   ],
   "source": [
    "\n",
    "med_tot_bugs_corrigidos = (df['Bugs Corrigidos']).mean()\n",
    "\n",
    "print(\"Média Total Bugs Corrigidos dia:{:.3}\".format(med_tot_bugs_corrigidos))"
   ]
  },
  {
   "cell_type": "markdown",
   "id": "3457df07",
   "metadata": {},
   "source": [
    "#### 5) Total de Tarefas Concluídas"
   ]
  },
  {
   "cell_type": "code",
   "execution_count": 9,
   "id": "4babc19e",
   "metadata": {
    "scrolled": true
   },
   "outputs": [
    {
     "name": "stdout",
     "output_type": "stream",
     "text": [
      "Total tarefas concluídas: 29\n"
     ]
    }
   ],
   "source": [
    "total_taref_concluida = df['Tarefas Concluídas'].sum()\n",
    "\n",
    "print(\"Total tarefas concluídas:\",total_taref_concluida)"
   ]
  },
  {
   "cell_type": "markdown",
   "id": "130dcc4d",
   "metadata": {},
   "source": [
    "#### 6) Média Diária de Tarefas Concluídas"
   ]
  },
  {
   "cell_type": "code",
   "execution_count": 10,
   "id": "1c3cc9f6",
   "metadata": {},
   "outputs": [
    {
     "name": "stdout",
     "output_type": "stream",
     "text": [
      "Média dia Tarefa Concluída:4.14\n"
     ]
    }
   ],
   "source": [
    "media_taref_concluida = (df['Tarefas Concluídas']).mean()\n",
    "\n",
    "print(\"Média dia Tarefa Concluída:{:.3}\".format(media_taref_concluida))"
   ]
  },
  {
   "cell_type": "markdown",
   "id": "36bccee2",
   "metadata": {},
   "source": [
    "#### 7.1) Calcula a produtividade e armazena numa variavel temporaria "
   ]
  },
  {
   "cell_type": "code",
   "execution_count": 11,
   "id": "e8917c89",
   "metadata": {},
   "outputs": [],
   "source": [
    "df['Produtividade'] = df['Tarefas Concluídas'] / df['Horas Trabalhadas']"
   ]
  },
  {
   "cell_type": "code",
   "execution_count": 12,
   "id": "65ff65fe",
   "metadata": {},
   "outputs": [
    {
     "data": {
      "text/plain": [
       "Dia\n",
       "Segunda    0.833333\n",
       "Terça      0.571429\n",
       "Quarta     0.750000\n",
       "Quinta     0.666667\n",
       "Sexta      0.714286\n",
       "Sábado     0.600000\n",
       "Domingo    0.500000\n",
       "Name: Produtividade, dtype: float64"
      ]
     },
     "execution_count": 12,
     "metadata": {},
     "output_type": "execute_result"
    }
   ],
   "source": [
    "df['Produtividade']"
   ]
  },
  {
   "cell_type": "code",
   "execution_count": 13,
   "id": "ba20f879",
   "metadata": {},
   "outputs": [
    {
     "data": {
      "text/plain": [
       "<AxesSubplot:xlabel='Dia'>"
      ]
     },
     "execution_count": 13,
     "metadata": {},
     "output_type": "execute_result"
    },
    {
     "data": {
      "image/png": "[encoded data removed]",
      "text/plain": [
       "<Figure size 432x288 with 1 Axes>"
      ]
     },
     "metadata": {
      "needs_background": "light"
     },
     "output_type": "display_data"
    }
   ],
   "source": [
    "df.plot.bar()"
   ]
  },
  {
   "cell_type": "code",
   "execution_count": 14,
   "id": "ceb81393",
   "metadata": {
    "scrolled": true
   },
   "outputs": [
    {
     "data": {
      "text/html": [
       "<div>\n",
       "<style scoped>\n",
       "    .dataframe tbody tr th:only-of-type {\n",
       "        vertical-align: middle;\n",
       "    }\n",
       "\n",
       "    .dataframe tbody tr th {\n",
       "        vertical-align: top;\n",
       "    }\n",
       "\n",
       "    .dataframe thead th {\n",
       "        text-align: right;\n",
       "    }\n",
       "</style>\n",
       "<table border=\"1\" class=\"dataframe\">\n",
       "  <thead>\n",
       "    <tr style=\"text-align: right;\">\n",
       "      <th></th>\n",
       "      <th>Dia</th>\n",
       "      <th>Horas Trabalhadas</th>\n",
       "      <th>Bugs Corrigidos</th>\n",
       "      <th>Tarefas Concluídas</th>\n",
       "      <th>Produtividade</th>\n",
       "    </tr>\n",
       "    <tr>\n",
       "      <th>Dia</th>\n",
       "      <th></th>\n",
       "      <th></th>\n",
       "      <th></th>\n",
       "      <th></th>\n",
       "      <th></th>\n",
       "    </tr>\n",
       "  </thead>\n",
       "  <tbody>\n",
       "    <tr>\n",
       "      <th>Segunda</th>\n",
       "      <td>Segunda</td>\n",
       "      <td>6</td>\n",
       "      <td>3</td>\n",
       "      <td>5</td>\n",
       "      <td>0.833333</td>\n",
       "    </tr>\n",
       "    <tr>\n",
       "      <th>Terça</th>\n",
       "      <td>Terça</td>\n",
       "      <td>7</td>\n",
       "      <td>2</td>\n",
       "      <td>4</td>\n",
       "      <td>0.571429</td>\n",
       "    </tr>\n",
       "    <tr>\n",
       "      <th>Quarta</th>\n",
       "      <td>Quarta</td>\n",
       "      <td>8</td>\n",
       "      <td>1</td>\n",
       "      <td>6</td>\n",
       "      <td>0.750000</td>\n",
       "    </tr>\n",
       "    <tr>\n",
       "      <th>Quinta</th>\n",
       "      <td>Quinta</td>\n",
       "      <td>6</td>\n",
       "      <td>4</td>\n",
       "      <td>4</td>\n",
       "      <td>0.666667</td>\n",
       "    </tr>\n",
       "    <tr>\n",
       "      <th>Sexta</th>\n",
       "      <td>Sexta</td>\n",
       "      <td>7</td>\n",
       "      <td>3</td>\n",
       "      <td>5</td>\n",
       "      <td>0.714286</td>\n",
       "    </tr>\n",
       "    <tr>\n",
       "      <th>Sábado</th>\n",
       "      <td>Sábado</td>\n",
       "      <td>5</td>\n",
       "      <td>2</td>\n",
       "      <td>3</td>\n",
       "      <td>0.600000</td>\n",
       "    </tr>\n",
       "    <tr>\n",
       "      <th>Domingo</th>\n",
       "      <td>Domingo</td>\n",
       "      <td>4</td>\n",
       "      <td>1</td>\n",
       "      <td>2</td>\n",
       "      <td>0.500000</td>\n",
       "    </tr>\n",
       "  </tbody>\n",
       "</table>\n",
       "</div>"
      ],
      "text/plain": [
       "             Dia  Horas Trabalhadas  Bugs Corrigidos  Tarefas Concluídas  \\\n",
       "Dia                                                                        \n",
       "Segunda  Segunda                  6                3                   5   \n",
       "Terça      Terça                  7                2                   4   \n",
       "Quarta    Quarta                  8                1                   6   \n",
       "Quinta    Quinta                  6                4                   4   \n",
       "Sexta      Sexta                  7                3                   5   \n",
       "Sábado    Sábado                  5                2                   3   \n",
       "Domingo  Domingo                  4                1                   2   \n",
       "\n",
       "         Produtividade  \n",
       "Dia                     \n",
       "Segunda       0.833333  \n",
       "Terça         0.571429  \n",
       "Quarta        0.750000  \n",
       "Quinta        0.666667  \n",
       "Sexta         0.714286  \n",
       "Sábado        0.600000  \n",
       "Domingo       0.500000  "
      ]
     },
     "execution_count": 14,
     "metadata": {},
     "output_type": "execute_result"
    }
   ],
   "source": [
    "df"
   ]
  },
  {
   "cell_type": "markdown",
   "id": "ae0ba76a",
   "metadata": {},
   "source": [
    "### Conclusão"
   ]
  },
  {
   "cell_type": "markdown",
   "id": "f642fa94",
   "metadata": {},
   "source": [
    "#### 1) Analise de bugs corrigido e produtividade.\n",
    "#### Apesar da quarta feira ser o dia com menor quantidade de bugs corrigidos, juntamente com maior quantidade de tarefas entregues e maior número de horas trabalhadas. Não conseguimos obter uma maior produtividade."
   ]
  },
  {
   "cell_type": "markdown",
   "id": "cb78c8d9",
   "metadata": {},
   "source": [
    "#### 2) Produtividade e dias da semana.\n",
    "#### Um ponto interessante é que aos finais de semana temos os menores valores de produtividade, por dia consecutivo, no trabalho."
   ]
  },
  {
   "cell_type": "markdown",
   "id": "9b9a3197",
   "metadata": {},
   "source": [
    "#### 3) Quantidade de horas trabalhadas.\n",
    "#### Aparentemente até 6 horas por dia de trabalho é o que apresenta maior produtividade.Considerando que o dia anterior foi de descanso. Seis horas de trablho é o que apresenta melhor resultado ainda que houvesse bugs no dia.\n"
   ]
  }
 ],
 "metadata": {
  "kernelspec": {
   "display_name": "Python 3 (ipykernel)",
   "language": "python",
   "name": "python3"
  },
  "language_info": {
   "codemirror_mode": {
    "name": "ipython",
    "version": 3
   },
   "file_extension": ".py",
   "mimetype": "text/x-python",
   "name": "python",
   "nbconvert_exporter": "python",
   "pygments_lexer": "ipython3",
   "version": "3.9.12"
  }
 },
 "nbformat": 4,
 "nbformat_minor": 5
}
